{
  "nbformat": 4,
  "nbformat_minor": 0,
  "metadata": {
    "colab": {
      "name": "입문(나도코딩+김왼손)",
      "provenance": [],
      "authorship_tag": "ABX9TyN8oEaFEkNxV5b7Ww1LVl1N",
      "include_colab_link": true
    },
    "kernelspec": {
      "name": "python3",
      "display_name": "Python 3"
    }
  },
  "cells": [
    {
      "cell_type": "markdown",
      "metadata": {
        "id": "view-in-github",
        "colab_type": "text"
      },
      "source": [
        "<a href=\"https://colab.research.google.com/github/gkwldnjs54/bmt_python/blob/main/%EC%9E%85%EB%AC%B8(%EB%82%98%EB%8F%84%EC%BD%94%EB%94%A9%2B%EA%B9%80%EC%99%BC%EC%86%90).ipynb\" target=\"_parent\"><img src=\"https://colab.research.google.com/assets/colab-badge.svg\" alt=\"Open In Colab\"/></a>"
      ]
    },
    {
      "cell_type": "code",
      "metadata": {
        "colab": {
          "base_uri": "https://localhost:8080/"
        },
        "id": "Ve1aX7z-_OWP",
        "outputId": "225cbdb1-4156-4e43-d518-98cc4b629d6c"
      },
      "source": [
        "# #애완동물을 소개해 주세요~\r\n",
        "# animal = '강아지'\r\n",
        "# name = '연탄이'\r\n",
        "# age = 4\r\n",
        "# hobby = '산책'\r\n",
        "is_adult = age>=3\r\n",
        "\r\n",
        "print('우리집 '+animal+'의 이름은 '+name+'에요')\r\n",
        "print(name+'는 '+str(age)+'살이며, '+hobby+'을 아주 좋아해요')\r\n",
        "print(name + '는 어른일까요?' + str(is_adult))\r\n",
        "\r\n",
        "# +대신에 쉼표로 대신 쓸 수 있음. 쉼표로 쓸 때는 문자형으로 바꿀 필요가 없지만, 쉼표 자체가 띄어쓰기를 가지고 있음"
      ],
      "execution_count": null,
      "outputs": [
        {
          "output_type": "stream",
          "text": [
            "우리집 강아지의 이름은 연탄이에요\n",
            "연탄이는 4살이며, 산책을 아주 좋아해요\n",
            "연탄이는 어른일까요?True\n"
          ],
          "name": "stdout"
        }
      ]
    },
    {
      "cell_type": "code",
      "metadata": {
        "id": "W9fKI8RSAvvf"
      },
      "source": [
        "#주석이란, 프로그램 코드 내에는 포함되어 있지만, 실제로 실행할 때에는 무시가 됨\r\n",
        "\r\n",
        "#여러문장에 대해 주석 처리 할 때는 작은 따움표 3개!\r\n",
        "'''이것은 \r\n",
        "전체\r\n",
        "주석하는 법이다'''\r\n",
        "\r\n",
        "코딩 내에서 전체를 주석 처리 할 때는 블록씌운후 Ctrl+/"
      ],
      "execution_count": null,
      "outputs": []
    },
    {
      "cell_type": "code",
      "metadata": {
        "colab": {
          "base_uri": "https://localhost:8080/"
        },
        "id": "FYrNzn5RBg_2",
        "outputId": "b8e40b62-e3b1-470f-bb97-61ce984df93f"
      },
      "source": [
        "#Quiz1\r\n",
        "station = ['사당', '신도림', '인천공항']\r\n",
        "for i in station : \r\n",
        "    print(i+'행 열차가 들어오고 있습니다')\r\n",
        "#반복문(for)\r\n",
        "#for 변수 in 컨테이너 : \r\n",
        "# 4번 들여쓰기 해야함(들여쓰기 방법은 스페이스바 또는 Tab 근데 통일 해서 써야함)\r\n",
        "\r\n",
        "\r\n",
        "animals = ['땅다람쥐', '바다코끼리', '스컹크' , '하마']\r\n",
        "\r\n",
        "for animal in animals :\r\n",
        "  print(animal)\r\n",
        "\r\n",
        "for num in [1,2,3] : \r\n",
        "  print(num)\r\n",
        "\r\n",
        "\r\n",
        "for my_str in \"하지원의 코딩\" :\r\n",
        "  print(my_str)\r\n",
        "\r\n",
        "animals\r\n",
        "\r\n",
        "#나도코딩 25분48초"
      ],
      "execution_count": null,
      "outputs": [
        {
          "output_type": "stream",
          "text": [
            "사당행 열차가 들어오고 있습니다\n",
            "신도림행 열차가 들어오고 있습니다\n",
            "인천공항행 열차가 들어오고 있습니다\n",
            "땅다람쥐\n",
            "바다코끼리\n",
            "스컹크\n",
            "하마\n",
            "1\n",
            "2\n",
            "3\n",
            "하\n",
            "지\n",
            "원\n",
            "의\n",
            " \n",
            "코\n",
            "딩\n"
          ],
          "name": "stdout"
        },
        {
          "output_type": "execute_result",
          "data": {
            "text/plain": [
              "['땅다람쥐', '바다코끼리', '스컹크', '하마']"
            ]
          },
          "metadata": {
            "tags": []
          },
          "execution_count": 11
        }
      ]
    }
  ]
}